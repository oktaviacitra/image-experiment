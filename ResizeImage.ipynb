{
  "nbformat": 4,
  "nbformat_minor": 0,
  "metadata": {
    "colab": {
      "name": "ResizeImage.ipynb",
      "provenance": [],
      "authorship_tag": "ABX9TyMYYzqmCVf98ln5n+j4dEKE",
      "include_colab_link": true
    },
    "kernelspec": {
      "name": "python3",
      "display_name": "Python 3"
    },
    "language_info": {
      "name": "python"
    }
  },
  "cells": [
    {
      "cell_type": "markdown",
      "metadata": {
        "id": "view-in-github",
        "colab_type": "text"
      },
      "source": [
        "<a href=\"https://colab.research.google.com/github/oktaviacitra/image-experiment/blob/main/ResizeImage.ipynb\" target=\"_parent\"><img src=\"https://colab.research.google.com/assets/colab-badge.svg\" alt=\"Open In Colab\"/></a>"
      ]
    },
    {
      "cell_type": "code",
      "metadata": {
        "colab": {
          "base_uri": "https://localhost:8080/"
        },
        "id": "v23rYMuesx_O",
        "outputId": "e7fcdda5-c2ac-474e-8ac7-b8bfe14e03c8"
      },
      "source": [
        "from google.colab import drive\n",
        "\n",
        "basic_path = '/content/drive'\n",
        "drive.mount(basic_path)"
      ],
      "execution_count": 23,
      "outputs": [
        {
          "output_type": "stream",
          "name": "stdout",
          "text": [
            "Drive already mounted at /content/drive; to attempt to forcibly remount, call drive.mount(\"/content/drive\", force_remount=True).\n"
          ]
        }
      ]
    },
    {
      "cell_type": "code",
      "metadata": {
        "colab": {
          "base_uri": "https://localhost:8080/"
        },
        "id": "ZqNpAGkrgsyZ",
        "outputId": "9626c115-8872-4eac-eca0-e697e2117582"
      },
      "source": [
        "import pandas as pd\n",
        "\n",
        "folder_path = basic_path + \"/MyDrive/Dataset/\"\n",
        "\n",
        "dataset_path = folder_path + \"fashion.csv\"\n",
        "image_names = pd.read_csv(dataset_path)[\"Image\"].head().to_list()\n",
        "image_names"
      ],
      "execution_count": 24,
      "outputs": [
        {
          "output_type": "execute_result",
          "data": {
            "text/plain": [
              "['42419.jpg', '34009.jpg', '40143.jpg', '23623.jpg', '47154.jpg']"
            ]
          },
          "metadata": {},
          "execution_count": 24
        }
      ]
    },
    {
      "cell_type": "code",
      "metadata": {
        "id": "kB8N89yCpDiW"
      },
      "source": [
        "!ls \"/content/drive/MyDrive/Dataset/tmp\""
      ],
      "execution_count": 25,
      "outputs": []
    },
    {
      "cell_type": "code",
      "metadata": {
        "id": "P8bOx1PBjHce"
      },
      "source": [
        "from PIL import Image\n",
        "\n",
        "width, height = 32, 32\n",
        "image_path = folder_path + \"/Images/\"\n",
        "tmp_path = folder_path + \"/tmp/\"\n",
        "for name in image_names:\n",
        "  image = Image.open(image_path + name)\n",
        "  image = image.resize((width, height))\n",
        "  image.save(tmp_path + name)"
      ],
      "execution_count": 26,
      "outputs": []
    },
    {
      "cell_type": "code",
      "metadata": {
        "colab": {
          "base_uri": "https://localhost:8080/"
        },
        "id": "mHNfeF_JohZL",
        "outputId": "d8a07a19-976a-43bc-a45a-77eca54555e9"
      },
      "source": [
        "!ls \"/content/drive/MyDrive/Dataset/tmp\""
      ],
      "execution_count": 27,
      "outputs": [
        {
          "output_type": "stream",
          "name": "stdout",
          "text": [
            "23623.jpg  34009.jpg  40143.jpg  42419.jpg  47154.jpg\n"
          ]
        }
      ]
    }
  ]
}