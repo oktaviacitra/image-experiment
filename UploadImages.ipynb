{
  "nbformat": 4,
  "nbformat_minor": 0,
  "metadata": {
    "colab": {
      "name": "UploadImages.ipynb",
      "provenance": [],
      "authorship_tag": "ABX9TyN0TWRueUayw3sSZO6jGxXi",
      "include_colab_link": true
    },
    "kernelspec": {
      "name": "python3",
      "display_name": "Python 3"
    },
    "language_info": {
      "name": "python"
    }
  },
  "cells": [
    {
      "cell_type": "markdown",
      "metadata": {
        "id": "view-in-github",
        "colab_type": "text"
      },
      "source": [
        "<a href=\"https://colab.research.google.com/github/oktaviacitra/image-experiment/blob/main/UploadImages.ipynb\" target=\"_parent\"><img src=\"https://colab.research.google.com/assets/colab-badge.svg\" alt=\"Open In Colab\"/></a>"
      ]
    },
    {
      "cell_type": "code",
      "source": [
        "from google.colab import drive"
      ],
      "metadata": {
        "id": "MSpeLOzqSCKT"
      },
      "execution_count": 1,
      "outputs": []
    },
    {
      "cell_type": "code",
      "source": [
        "basic_path = \"/content/drive\"\n",
        "drive.mount(basic_path)"
      ],
      "metadata": {
        "colab": {
          "base_uri": "https://localhost:8080/"
        },
        "id": "Nkx3JmIkSE6K",
        "outputId": "493b5081-b478-47d0-a3b9-2b77252eaf32"
      },
      "execution_count": 2,
      "outputs": [
        {
          "output_type": "stream",
          "name": "stdout",
          "text": [
            "Mounted at /content/drive\n"
          ]
        }
      ]
    },
    {
      "cell_type": "code",
      "source": [
        "folder_path = basic_path + \"/MyDrive/Example/\""
      ],
      "metadata": {
        "id": "5bAzqkvfSIUR"
      },
      "execution_count": 3,
      "outputs": []
    },
    {
      "cell_type": "code",
      "source": [
        "!ls \"/content/drive/MyDrive/Example/\""
      ],
      "metadata": {
        "colab": {
          "base_uri": "https://localhost:8080/"
        },
        "id": "PmpR2799SVhV",
        "outputId": "1e18fdd9-4ff3-4922-af0e-437016664311"
      },
      "execution_count": 4,
      "outputs": [
        {
          "output_type": "stream",
          "name": "stdout",
          "text": [
            "000.jpg  001.jpg  002.jpg\n"
          ]
        }
      ]
    },
    {
      "cell_type": "code",
      "source": [
        "!pip install pyrebase\n",
        "import pyrebase"
      ],
      "metadata": {
        "colab": {
          "base_uri": "https://localhost:8080/"
        },
        "id": "8K7XDNf8Scsq",
        "outputId": "fca0b686-b7dc-4a3f-cad2-423b3b758836"
      },
      "execution_count": 6,
      "outputs": [
        {
          "output_type": "stream",
          "name": "stdout",
          "text": [
            "Requirement already satisfied: pyrebase in /usr/local/lib/python3.7/dist-packages (3.0.27)\n",
            "Requirement already satisfied: requests==2.11.1 in /usr/local/lib/python3.7/dist-packages (from pyrebase) (2.11.1)\n",
            "Requirement already satisfied: pycryptodome==3.4.3 in /usr/local/lib/python3.7/dist-packages (from pyrebase) (3.4.3)\n",
            "Requirement already satisfied: gcloud==0.17.0 in /usr/local/lib/python3.7/dist-packages (from pyrebase) (0.17.0)\n",
            "Requirement already satisfied: python-jwt==2.0.1 in /usr/local/lib/python3.7/dist-packages (from pyrebase) (2.0.1)\n",
            "Requirement already satisfied: oauth2client==3.0.0 in /usr/local/lib/python3.7/dist-packages (from pyrebase) (3.0.0)\n",
            "Requirement already satisfied: requests-toolbelt==0.7.0 in /usr/local/lib/python3.7/dist-packages (from pyrebase) (0.7.0)\n",
            "Requirement already satisfied: googleapis-common-protos in /usr/local/lib/python3.7/dist-packages (from gcloud==0.17.0->pyrebase) (1.53.0)\n",
            "Requirement already satisfied: six in /usr/local/lib/python3.7/dist-packages (from gcloud==0.17.0->pyrebase) (1.15.0)\n",
            "Requirement already satisfied: protobuf!=3.0.0.b2.post1,>=3.0.0b2 in /usr/local/lib/python3.7/dist-packages (from gcloud==0.17.0->pyrebase) (3.17.3)\n",
            "Requirement already satisfied: httplib2>=0.9.1 in /usr/local/lib/python3.7/dist-packages (from gcloud==0.17.0->pyrebase) (0.17.4)\n",
            "Requirement already satisfied: pyasn1-modules>=0.0.5 in /usr/local/lib/python3.7/dist-packages (from oauth2client==3.0.0->pyrebase) (0.2.8)\n",
            "Requirement already satisfied: rsa>=3.1.4 in /usr/local/lib/python3.7/dist-packages (from oauth2client==3.0.0->pyrebase) (4.8)\n",
            "Requirement already satisfied: pyasn1>=0.1.7 in /usr/local/lib/python3.7/dist-packages (from oauth2client==3.0.0->pyrebase) (0.4.8)\n",
            "Requirement already satisfied: jws>=0.1.3 in /usr/local/lib/python3.7/dist-packages (from python-jwt==2.0.1->pyrebase) (0.1.3)\n"
          ]
        }
      ]
    },
    {
      "cell_type": "code",
      "source": [
        "config = {\n",
        "    \"apiKey\": \"-\",\n",
        "    \"authDomain\": \"-\",\n",
        "    \"projectId\": \"-\",\n",
        "    \"storageBucket\": \"-\",\n",
        "    \"messagingSenderId\": \"-\",\n",
        "    \"appId\": \"-\",\n",
        "    \"measurementId\": \"-\",\n",
        "    \"databaseURL\": \"-\"\n",
        "}\n",
        "\n",
        "firebase = pyrebase.initialize_app(config)\n",
        "storage = firebase.storage()"
      ],
      "metadata": {
        "id": "v4p4xxyNTEw4"
      },
      "execution_count": 7,
      "outputs": []
    },
    {
      "cell_type": "code",
      "source": [
        "names = [\"000.jpg\", \"001.jpg\", \"002.jpg\"]\n",
        "for name in names:\n",
        "  storage.child(\"Images/\" + name).put(folder_path + name)"
      ],
      "metadata": {
        "id": "2iSPivaiVevP"
      },
      "execution_count": 10,
      "outputs": []
    }
  ]
}